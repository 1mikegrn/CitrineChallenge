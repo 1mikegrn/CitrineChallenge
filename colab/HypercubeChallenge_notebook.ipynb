{
  "nbformat": 4,
  "nbformat_minor": 0,
  "metadata": {
    "colab": {
      "name": "CitrineChallenge.ipynb",
      "provenance": [],
      "private_outputs": true,
      "collapsed_sections": []
    },
    "kernelspec": {
      "name": "python3",
      "display_name": "Python 3"
    }
  },
  "cells": [
    {
      "cell_type": "markdown",
      "metadata": {
        "colab_type": "text",
        "id": "mMrxpObAQXCa"
      },
      "source": [
        "###### *Command line is cool. Cloud computing is also cool.*\n",
        "\n",
        "# Hypercube Challenge\n",
        "---\n",
        "\n",
        "This is the google colab implementation of Michael Green's submission for the Hypercube Challenge. Though the HypercubeChallenge library is natively designed as a CLI program, the modular nature of the library provides entrance points which allow users to interact with the library via a python environment. This jupyter notebook uses these access points to generate the results of the analysis in the google cloud.\n",
        "\n",
        "## How to use this notebook\n",
        "\n",
        "Run each cell in order from top to bottom. When the user is asked to provide data files via files.upload(), select all the constraint files which the user would like to be analyzed. Once the files are uploaded, specify the number of desired results and then run the final cell. Once analyzed, the notebook will prompt you to save the results to your local machine.\n",
        "\n",
        "\n"
      ]
    },
    {
      "cell_type": "code",
      "execution_count": 0,
      "metadata": {
        "colab": {},
        "colab_type": "code",
        "id": "OwkrgRalUhHM"
      },
      "outputs": [],
      "source": [
        "pip install git+https://github.com/1mikegrn/HypercubeChallenge"
      ]
    },
    {
      "cell_type": "code",
      "execution_count": 0,
      "metadata": {
        "colab": {},
        "colab_type": "code",
        "id": "grZ3Oq9OziJY"
      },
      "outputs": [],
      "source": [
        "import HypercubeChallenge\n",
        "import pandas as pd\n",
        "import numpy as np\n",
        "from google.colab import files\n",
        "from os.path import splitext"
      ]
    },
    {
      "cell_type": "code",
      "execution_count": 0,
      "metadata": {
        "colab": {},
        "colab_type": "code",
        "id": "WeNJLlh67rXg"
      },
      "outputs": [],
      "source": [
        "# once the 'choose files' button is presented, located the files to be uploaded\n",
        "# for calculation. The user can select multiple files. Sometimes this function\n",
        "# is a tad buggy (c'mon google...) so if it throws an error, simply rerun the \n",
        "# cell.\n",
        "\n",
        "uploaded = files.upload()"
      ]
    },
    {
      "cell_type": "code",
      "execution_count": 0,
      "metadata": {
        "colab": {},
        "colab_type": "code",
        "id": "FdfttxpBOneA"
      },
      "outputs": [],
      "source": [
        "# select the number for n_results\n",
        "n_results = 1000"
      ]
    },
    {
      "cell_type": "code",
      "execution_count": 0,
      "metadata": {
        "colab": {},
        "colab_type": "code",
        "id": "y5RB6doP7wGv"
      },
      "outputs": [],
      "source": [
        "# run the analysis for each provided constraint file, save results to a\n",
        "# dictionary keyed by the input file, and save the results to the local\n",
        "# machine.\n",
        "\n",
        "results = dict()\n",
        "\n",
        "for index, item in uploaded.items():\n",
        "\n",
        "    name = splitext(index)[0]\n",
        "\n",
        "    results[name] = np.array(CitrineChallenge.src.calculator.calculate(\n",
        "        item,\n",
        "        n_results,\n",
        "        google=True\n",
        "    ))\n",
        "    \n",
        "    file_name = name + ' results.txt'\n",
        "    np.savetxt(file_name, results[name])\n",
        "    files.download(file_name)"
      ]
    }
  ]
}