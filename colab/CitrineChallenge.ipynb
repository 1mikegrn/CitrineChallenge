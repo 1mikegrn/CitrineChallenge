{
  "nbformat": 4,
  "nbformat_minor": 0,
  "metadata": {
    "colab": {
      "name": "CitrineChallenge.ipynb",
      "provenance": [],
      "private_outputs": true,
      "collapsed_sections": []
    },
    "kernelspec": {
      "name": "python3",
      "display_name": "Python 3"
    }
  },
  "cells": [
    {
      "cell_type": "markdown",
      "metadata": {
        "colab_type": "text",
        "id": "mMrxpObAQXCa"
      },
      "source": [
        "###### *Command line is cool. Cloud computing is also cool.*\n",
        "\n",
        "# Citrine Informatics Technical Challenge\n",
        "---\n",
        "\n",
        "This is the google colab implementation of Michael Green's Citrine Informatics Technical Challenge. Built into the CitrineChallenge library is a Python entrance point which allows users to interact with the library in a python environment. This jupyter notebook uses that access point to generate the results of the calculation in the google cloud.\n",
        "\n",
        "##How to use this notebook\n",
        "\n",
        "Run each cell in order from top to bottom. When the user is asked to provide data files via files.upload(), select all the constraint files which the user would like to be analyzed. Once the files are uploaded, run the final cell. Once calculated, the notebook will prompt you to save the results to your local machine.\n",
        "\n",
        "\n"
      ]
    },
    {
      "cell_type": "code",
      "execution_count": 0,
      "metadata": {
        "colab": {},
        "colab_type": "code",
        "id": "OwkrgRalUhHM"
      },
      "outputs": [],
      "source": [
        "pip install git+https://github.com/1mikegrn/CitrineChallenge"
      ]
    },
    {
      "cell_type": "code",
      "execution_count": 0,
      "metadata": {
        "colab": {},
        "colab_type": "code",
        "id": "grZ3Oq9OziJY"
      },
      "outputs": [],
      "source": [
        "import CitrineChallenge\n",
        "import pandas as pd\n",
        "import numpy as np\n",
        "from google.colab import files\n",
        "from os.path import splitext"
      ]
    },
    {
      "cell_type": "code",
      "execution_count": 0,
      "metadata": {
        "colab": {},
        "colab_type": "code",
        "id": "WeNJLlh67rXg"
      },
      "outputs": [],
      "source": [
        "# once the 'choose files' button is presented, located the files to be uploaded\n",
        "# for calculation. The user can select multiple files. Sometimes this function\n",
        "# is a tad buggy (c'mon google...) so if it throws an error, simply rerun the \n",
        "# cell.\n",
        "\n",
        "uploaded = files.upload()"
      ]
    },
    {
      "cell_type": "code",
      "execution_count": 0,
      "metadata": {
        "colab": {},
        "colab_type": "code",
        "id": "y5RB6doP7wGv"
      },
      "outputs": [],
      "source": [
        "results = dict()\n",
        "\n",
        "for index, item in uploaded.items():\n",
        "\n",
        "    results[index] = np.array(CitrineChallenge.python_api.analyze(\n",
        "        item,\n",
        "        1000,\n",
        "        google=True\n",
        "    ))\n",
        "    \n",
        "    file_name = splitext(index)[0] + ' results.txt'\n",
        "    np.savetxt(file_name, results[index])\n",
        "    files.download(file_name)"
      ]
    }
  ]
}